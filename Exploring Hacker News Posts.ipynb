{
 "cells": [
  {
   "cell_type": "markdown",
   "metadata": {
    "collapsed": true
   },
   "source": [
    "The dataset to be analysed consist of submissions to the Hacker News site, a site where users submit posts and receive votes and comments just like reddit. The dataset consists of approximately 20,000 rows and exclude submissions that didn't receive any comments.\n",
    "There are 7 columns: id: the unique identifier from Hacker News for the post, title: the title of the post, url: the URL that the posts links to, if the post has a URL\n",
    "num_points: the number of points the post acquired, calculated as the total number of upvotes minus the total number of downvotes\n",
    "num_comments: the number of comments on the post\n",
    "author: the username of the person who submitted the post\n",
    "created_at: the date and time of the post's submission\n",
    "\n",
    "In this project, focus is on posts with titles that begin with either Ask HN or Show HN. Users submit Ask HN posts to ask the Hacker News community a specific question. Likewise, users submit Show HN posts to show the Hacker News community a project, product, or just something interesting.\n",
    "\n",
    "I'll be analysing the two types of posts to uncover the following insights:\n",
    "\n",
    "Engagement Comparison:\n",
    "Evaluate whether Ask HN or Show HN posts tend to receive more comments on average. This will provide an understanding of the community's interaction with these post types.\n",
    "\n",
    "Time-Based Analysis:\n",
    "Examine whether posts created at specific times of the day receive more comments on average. This analysis aims to identify potential patterns related to the timing of post creation and user engagement.\n",
    "By conducting these comparisons, we aim to gain valuable insights into the dynamics of user engagement on the platform."
   ]
  },
  {
   "cell_type": "code",
   "execution_count": 1,
   "metadata": {},
   "outputs": [
    {
     "name": "stdout",
     "output_type": "stream",
     "text": [
      "[['12224879', 'Interactive Dynamic Video', 'http://www.interactivedynamicvideo.com/', '386', '52', 'ne0phyte', '8/4/2016 11:52'], ['10975351', 'How to Use Open Source and Shut the Fuck Up at the Same Time', 'http://hueniverse.com/2016/01/26/how-to-use-open-source-and-shut-the-fuck-up-at-the-same-time/', '39', '10', 'josep2', '1/26/2016 19:30'], ['11964716', \"Florida DJs May Face Felony for April Fools' Water Joke\", 'http://www.thewire.com/entertainment/2013/04/florida-djs-april-fools-water-joke/63798/', '2', '1', 'vezycash', '6/23/2016 22:20'], ['11919867', 'Technology ventures: From Idea to Enterprise', 'https://www.amazon.com/Technology-Ventures-Enterprise-Thomas-Byers/dp/0073523429', '3', '1', 'hswarna', '6/17/2016 0:01'], ['10301696', 'Note by Note: The Making of Steinway L1037 (2007)', 'http://www.nytimes.com/2007/11/07/movies/07stein.html?_r=0', '8', '2', 'walterbell', '9/30/2015 4:12']]\n"
     ]
    }
   ],
   "source": [
    "from csv import reader\n",
    "open_file = open(\"hacker_news.csv\")\n",
    "read_file = reader(open_file)\n",
    "list_file = list(read_file)\n",
    "hn = list_file[1:]\n",
    "header = list_file[0]\n",
    "print(hn[:5])"
   ]
  },
  {
   "cell_type": "code",
   "execution_count": 2,
   "metadata": {},
   "outputs": [
    {
     "name": "stdout",
     "output_type": "stream",
     "text": [
      "1744\n",
      "1162\n",
      "18938\n"
     ]
    }
   ],
   "source": [
    "ask_posts = []\n",
    "show_posts = []\n",
    "other_posts = []\n",
    "for row in hn:\n",
    "    title = row[1]\n",
    "    if title.lower().startswith('ask hn'):\n",
    "        ask_posts.append(row)\n",
    "    if title.lower().startswith('show hn'):\n",
    "        show_posts.append(row)\n",
    "    else:\n",
    "        other_posts.append(row)\n",
    "print(len(ask_posts))\n",
    "print(len(show_posts))\n",
    "print(len(other_posts))"
   ]
  },
  {
   "cell_type": "code",
   "execution_count": 3,
   "metadata": {
    "scrolled": true
   },
   "outputs": [
    {
     "name": "stdout",
     "output_type": "stream",
     "text": [
      "Average number of comments on ask posts is: 14.038417431192661\n",
      "Average number of comments on show posts is: 10.31669535283993\n"
     ]
    }
   ],
   "source": [
    "total_ask_comments = 0\n",
    "total_show_comments =0\n",
    "for row in ask_posts:\n",
    "    num_comments = float(row[4])\n",
    "    total_ask_comments = total_ask_comments + num_comments\n",
    "avg_ask_comments = total_ask_comments / len(ask_posts)\n",
    "print(\"Average number of comments on ask posts is:\", avg_ask_comments)\n",
    "\n",
    "for row in show_posts:\n",
    "    num_comments = float(row[4])\n",
    "    total_show_comments = total_show_comments + num_comments\n",
    "avg_show_comments = total_show_comments / len(show_posts)\n",
    "print(\"Average number of comments on show posts is:\",  avg_show_comments)"
   ]
  },
  {
   "cell_type": "markdown",
   "metadata": {},
   "source": [
    "It can be observed that ask posts receive far more comments than show posts. The average number of comments on ask posts is more than the average number of comments on show posts."
   ]
  },
  {
   "cell_type": "code",
   "execution_count": 4,
   "metadata": {},
   "outputs": [
    {
     "name": "stdout",
     "output_type": "stream",
     "text": [
      "{'09': 45, '13': 85, '10': 59, '14': 107, '16': 108, '23': 68, '12': 73, '17': 100, '15': 116, '21': 109, '20': 80, '02': 58, '18': 109, '03': 54, '05': 46, '19': 110, '01': 60, '22': 71, '08': 48, '04': 47, '00': 55, '06': 44, '07': 34, '11': 58}\n",
      "\n",
      "{'09': 251.0, '13': 1253.0, '10': 793.0, '14': 1416.0, '16': 1814.0, '23': 543.0, '12': 687.0, '17': 1146.0, '15': 4477.0, '21': 1745.0, '20': 1722.0, '02': 1381.0, '18': 1439.0, '03': 421.0, '05': 464.0, '19': 1188.0, '01': 683.0, '22': 479.0, '08': 492.0, '04': 337.0, '00': 447.0, '06': 397.0, '07': 267.0, '11': 641.0}\n"
     ]
    }
   ],
   "source": [
    "import datetime as dt\n",
    "result_list = []\n",
    "for row in ask_posts:\n",
    "    created_at = row[-1]\n",
    "    num_comments = float(row[4])\n",
    "    rl = [created_at, num_comments]\n",
    "    result_list.append(rl)\n",
    "\n",
    "counts_by_hour = {}\n",
    "comments_by_hour = {}\n",
    "\n",
    "for row in result_list:\n",
    "    dateti = row[0]\n",
    "    form = \"%m/%d/%Y %H:%M\"\n",
    "    date_time = dt.datetime.strptime(dateti, form)\n",
    "    \n",
    "    hour = date_time.strftime(\"%H\")\n",
    "    if hour in counts_by_hour:\n",
    "        counts_by_hour[hour] += 1\n",
    "        comments_by_hour[hour] += row[1]\n",
    "    else:\n",
    "        counts_by_hour[hour] = 1\n",
    "        comments_by_hour[hour] = row[1]\n",
    "print(counts_by_hour)\n",
    "print()\n",
    "print(comments_by_hour)"
   ]
  },
  {
   "cell_type": "markdown",
   "metadata": {},
   "source": [
    "The analysis focused on creating a list of Ask HN posts with their respective creation times and comment counts. This information was then used to compute the number of posts and comments for each hour."
   ]
  },
  {
   "cell_type": "code",
   "execution_count": 5,
   "metadata": {},
   "outputs": [
    {
     "name": "stdout",
     "output_type": "stream",
     "text": [
      "[['09', 5.5777777777777775], ['13', 14.741176470588234], ['10', 13.440677966101696], ['14', 13.233644859813085], ['16', 16.796296296296298], ['23', 7.985294117647059], ['12', 9.41095890410959], ['17', 11.46], ['15', 38.5948275862069], ['21', 16.009174311926607], ['20', 21.525], ['02', 23.810344827586206], ['18', 13.20183486238532], ['03', 7.796296296296297], ['05', 10.08695652173913], ['19', 10.8], ['01', 11.383333333333333], ['22', 6.746478873239437], ['08', 10.25], ['04', 7.170212765957447], ['00', 8.127272727272727], ['06', 9.022727272727273], ['07', 7.852941176470588], ['11', 11.051724137931034]]\n"
     ]
    }
   ],
   "source": [
    "avg_by_hour = []\n",
    "for hour in comments_by_hour:\n",
    "    avg = comments_by_hour[hour] / counts_by_hour[hour]\n",
    "    avg_by_hour.append([hour, avg])\n",
    "print(avg_by_hour)"
   ]
  },
  {
   "cell_type": "markdown",
   "metadata": {},
   "source": [
    "Having obtained the necessary results, the current presentation format poses challenges in quickly pinpointing the hours with the highest engagement. To enhance clarity, we will conclude by sorting the list of lists and presenting the five hours with the highest values in a more reader-friendly format."
   ]
  },
  {
   "cell_type": "code",
   "execution_count": 6,
   "metadata": {},
   "outputs": [
    {
     "name": "stdout",
     "output_type": "stream",
     "text": [
      "[[5.5777777777777775, '09'], [14.741176470588234, '13'], [13.440677966101696, '10'], [13.233644859813085, '14'], [16.796296296296298, '16'], [7.985294117647059, '23'], [9.41095890410959, '12'], [11.46, '17'], [38.5948275862069, '15'], [16.009174311926607, '21'], [21.525, '20'], [23.810344827586206, '02'], [13.20183486238532, '18'], [7.796296296296297, '03'], [10.08695652173913, '05'], [10.8, '19'], [11.383333333333333, '01'], [6.746478873239437, '22'], [10.25, '08'], [7.170212765957447, '04'], [8.127272727272727, '00'], [9.022727272727273, '06'], [7.852941176470588, '07'], [11.051724137931034, '11']]\n"
     ]
    }
   ],
   "source": [
    "swap_avg_by_hour =[]\n",
    "for row in avg_by_hour:\n",
    "    swap_avg_by_hour.append([row[-1], row[0]])\n",
    "print(swap_avg_by_hour)"
   ]
  },
  {
   "cell_type": "code",
   "execution_count": 7,
   "metadata": {},
   "outputs": [
    {
     "name": "stdout",
     "output_type": "stream",
     "text": [
      "Top 5 Hours for Ask Posts Comments:  [[38.5948275862069, '15'], [23.810344827586206, '02'], [21.525, '20'], [16.796296296296298, '16'], [16.009174311926607, '21']]\n"
     ]
    }
   ],
   "source": [
    "sorted_swap = sorted(swap_avg_by_hour, key=lambda x: x[0], reverse=True)\n",
    "print(\"Top 5 Hours for Ask Posts Comments: \", sorted_swap[:5])"
   ]
  },
  {
   "cell_type": "code",
   "execution_count": 8,
   "metadata": {},
   "outputs": [
    {
     "name": "stdout",
     "output_type": "stream",
     "text": [
      "15:00 : 38.59 average comments per post\n",
      "02:00 : 23.81 average comments per post\n",
      "20:00 : 21.52 average comments per post\n",
      "16:00 : 16.80 average comments per post\n",
      "21:00 : 16.01 average comments per post\n"
     ]
    }
   ],
   "source": [
    "for row in sorted_swap[:5]:\n",
    "    hour = row[-1]\n",
    "    hour_format = dt.datetime.strptime(hour, \"%H\")\n",
    "    time_only = hour_format.strftime(\"%H:%M\")\n",
    "\n",
    "    results = \"{} : {:.2f} average comments per post\"\n",
    "    print(results.format(time_only, row[0]))"
   ]
  },
  {
   "cell_type": "markdown",
   "metadata": {},
   "source": [
    "15:00 : 38.59 average comments per post:\n",
    "\n",
    "At 3:00 PM EST, posts on average receive 38.59 comments each. This suggests that posts created around this time tend to generate a high level of engagement and discussion.\n",
    "\n",
    "02:00 : 23.81 average comments per post:\n",
    "At 2:00 AM EST, posts receive an average of 23.81 comments per post. Despite the late-night hour, there seems to be significant interaction and interest in posts during this time.\n",
    "\n",
    "20:00 : 21.52 average comments per post:\n",
    "At 8:00 PM EST, posts garner an average of 21.52 comments per post. This indicates that the community remains active and engaged during the evening hours.\n",
    "\n",
    "16:00 : 16.80 average comments per post:\n",
    "At 4:00 PM EST, posts receive an average of 16.80 comments each. This suggests a consistent level of engagement during the late afternoon.\n",
    "\n",
    "21:00 : 16.01 average comments per post:\n",
    "At 9:00 PM EST, posts, on average, generate 16.01 comments per post. Similar to the 8:00 PM entry, this indicates sustained community activity during the evening.\n",
    "\n",
    "In summary, these time periods represent instances when posts tend to receive a higher average number of comments, suggesting optimal times for engagement within the community. It might be advantageous to consider these hours when planning post submissions for increased visibility and interaction."
   ]
  }
 ],
 "metadata": {
  "kernelspec": {
   "display_name": "Python 3",
   "language": "python",
   "name": "python3"
  },
  "language_info": {
   "codemirror_mode": {
    "name": "ipython",
    "version": 3
   },
   "file_extension": ".py",
   "mimetype": "text/x-python",
   "name": "python",
   "nbconvert_exporter": "python",
   "pygments_lexer": "ipython3",
   "version": "3.8.2"
  }
 },
 "nbformat": 4,
 "nbformat_minor": 2
}
